{
 "cells": [
  {
   "cell_type": "code",
   "execution_count": null,
   "metadata": {},
   "outputs": [],
   "source": [
    "# 公用模块\n",
    "\n",
    "import math\n",
    "import numpy as np\n",
    "from typing import *\n",
    "\n",
    "from build123d import *"
   ]
  },
  {
   "cell_type": "code",
   "execution_count": null,
   "metadata": {},
   "outputs": [],
   "source": [
    "# 脚本参数\n",
    "\n",
    "VISUALIZE = True\n",
    "ASSEMBLE = False\n",
    "EXPORT = True\n",
    "\n",
    "if VISUALIZE:\n",
    "    from ocp_vscode import *"
   ]
  },
  {
   "cell_type": "code",
   "execution_count": null,
   "metadata": {},
   "outputs": [],
   "source": [
    "# 全局设计参数\n",
    "\n",
    "UNIT = 19."
   ]
  },
  {
   "cell_type": "markdown",
   "metadata": {},
   "source": [
    "## 对PCB进行逆向"
   ]
  },
  {
   "cell_type": "code",
   "execution_count": null,
   "metadata": {},
   "outputs": [],
   "source": [
    "__PCB_ORIGIN = np.array([10.6075, 19.1550])  # 本代码中使用kle中的原点为各个图形的原点。该值为该原点在pcb中的坐标\n",
    "__SWITCHES_ROW1_LOCS_RAW = [  # x, y\n",
    "    (20.1075, 35.7800), (39.1075, 35.7800), (58.1075, 31.0300), (77.1075, 28.6550), (96.1075, 31.0300), (115.1075, 33.4050),\n",
    "]\n",
    "__SWITCHES_THUMBS_LOCS_RAW = [  # x, y, r, w, h\n",
    "    (86.6075, 88.6550, 0, 1, 1), (107.6075, 91.4050, -15, 1, 1), (129.8575, 95.1550, 60, 1.5, 1)\n",
    "]\n",
    "\n",
    "SWITCHES_SIZES = [\n",
    "    *[(UNIT, UNIT) for _ in range(len(__SWITCHES_ROW1_LOCS_RAW) * 3)],\n",
    "    *[(w * UNIT, h * UNIT) for _, _, _, w, h in __SWITCHES_THUMBS_LOCS_RAW]\n",
    "]\n",
    "\n",
    "SWITCHES_LOCS: List[Location] = []\n",
    "for row in range(3):\n",
    "    for x, y in __SWITCHES_ROW1_LOCS_RAW:\n",
    "        SWITCHES_LOCS.append(Pos(x - __PCB_ORIGIN[0], -(y - __PCB_ORIGIN[1]) - row * UNIT))\n",
    "for x, y, r, _, _ in __SWITCHES_THUMBS_LOCS_RAW:\n",
    "    SWITCHES_LOCS.append(Pos(x - __PCB_ORIGIN[0], -(y - __PCB_ORIGIN[1])) * Rot(0, 0, r))\n",
    "\n",
    "PLATE_HOLES_LOCS = [Pos(x, -y, 0) for x, y in [\n",
    "    np.array([29.6075, 45.28]) - __PCB_ORIGIN,\n",
    "    np.array([29.6075, 64.28]) - __PCB_ORIGIN,\n",
    "    np.array([105.5755, 41.7655]) - __PCB_ORIGIN,\n",
    "    np.array([119.3305, 89.1350]) - __PCB_ORIGIN\n",
    "]]\n",
    "\n",
    "PCB_BACKLEDS_LOCS = [Pos(x, -y, 0) for x, y in [\n",
    "    np.array([39.1075, 45.28]) - __PCB_ORIGIN,\n",
    "    np.array([39.1075, 64.28]) - __PCB_ORIGIN,\n",
    "    np.array([77.1075, 38.155]) - __PCB_ORIGIN,\n",
    "    np.array([77.1075, 76.155]) - __PCB_ORIGIN,\n",
    "    np.array([115.1075, 42.905]) - __PCB_ORIGIN,\n",
    "    np.array([115.1075, 80.905]) - __PCB_ORIGIN\n",
    "]]"
   ]
  },
  {
   "cell_type": "code",
   "execution_count": null,
   "metadata": {},
   "outputs": [],
   "source": [
    "# 如有需要，导出按键外边框以协助后续外形设计\n",
    "\n",
    "# SWITCHES_BOUNDARY = Sketch() + [loc * Rectangle(*size) for loc, size in zip(SWITCHES_LOCS, SWITCHES_SIZES)]\n",
    "# exporter = ExportSVG()\n",
    "# exporter.add_layer('switches').add_shape(SWITCHES_BOUNDARY)\n",
    "# exporter.write('switches.svg')"
   ]
  },
  {
   "cell_type": "markdown",
   "metadata": {},
   "source": [
    "## 外形设计"
   ]
  },
  {
   "cell_type": "code",
   "execution_count": null,
   "metadata": {},
   "outputs": [],
   "source": [
    "def import_svg(file_path: str):\n",
    "    code, val = import_svg_as_buildline_code(file_path)\n",
    "    exec(code)\n",
    "    return locals()[val].line"
   ]
  },
  {
   "cell_type": "code",
   "execution_count": null,
   "metadata": {},
   "outputs": [],
   "source": [
    "# 轴体参数\n",
    "\n",
    "# 轴在定位板顶面之下的部分。用于在定位板上挖孔\n",
    "SWITCH_BELOW_WIDTH, SWITCH_BELOW_DEPTH = (14.1, 5.)\n",
    "SWITCH_CLICK_SPACE, SWITCH_CLICK_DIAMETER = (1.41, 15.)\n",
    "SWITCH_CLICK_WIDTH, SWITCH_CLICK_WIDTH, SWITCH_CLICK_HEIGHT = (4., 3., SWITCH_BELOW_DEPTH - SWITCH_CLICK_SPACE)\n",
    "\n",
    "# 轴在定位板顶面之上的部分。用于在外壳上为键帽留出空间\n",
    "SWITCH_ABOVE_WIDTH, SWITCH_ABOVE_HEIGHT = (UNIT, 20.)"
   ]
  },
  {
   "cell_type": "code",
   "execution_count": null,
   "metadata": {},
   "outputs": [],
   "source": [
    "# 定位板参数\n",
    "\n",
    "PLATE_OFFSET = 10\n",
    "PLATE_TILTING = 12.5\n",
    "\n",
    "PLATE_THICKNESS = 5\n",
    "\n",
    "PLATE_PLANE = Plane(\n",
    "    Pos(0, 0, PLATE_OFFSET) * Rot(0, -PLATE_TILTING, 0) * Rectangle(1, 1).face()\n",
    ")"
   ]
  },
  {
   "cell_type": "code",
   "execution_count": null,
   "metadata": {},
   "outputs": [],
   "source": [
    "# 整体外形参数\n",
    "\n",
    "SHELL_THICKNESS = 4\n",
    "TOP_OFFSET = 8\n",
    "TOP_CHAMFER = (2., 2.)\n",
    "\n",
    "CASE_TOP_PLANE = Plane(PLATE_PLANE * Rectangle(1, 1).face().offset(TOP_OFFSET))\n",
    "\n",
    "TOP = make_face(import_svg('design/top.svg'))\n",
    "BOTTOM = make_face(import_svg('design/bottom.svg'))\n",
    "POCKET = make_face(import_svg('design/pocket.svg'))"
   ]
  },
  {
   "cell_type": "code",
   "execution_count": null,
   "metadata": {},
   "outputs": [],
   "source": [
    "# PCB和接口参数\n",
    "\n",
    "PCB_THICKNESS = 1.6\n",
    "PROMICRO_OFFSET = 4\n",
    "\n",
    "USB_WIDTH = 13\n",
    "USB_HEIGHT = 7\n",
    "USB_TAPER = 5\n",
    "\n",
    "TRRS_DIAMETER = 8\n",
    "TRRS_TAPER = 45\n",
    "\n",
    "PCB_PLANE = Plane(PLATE_PLANE * Rectangle(1, 1).face().offset(-5))\n",
    "\n",
    "USB_LOC = PCB_PLANE * Pos(124.3, -8, 2.5 - 3.16 / 2) * Rot(-90, 0, 0)\n",
    "TRRS_LOC = PCB_PLANE * Pos(133.552, -55.162, 5 / 2) * Rot(0, 90, 0)\n",
    "\n",
    "PCB = make_face(import_svg('design/pcb.svg'))\n",
    "OLED = make_face(import_svg('design/oled.svg'))"
   ]
  },
  {
   "cell_type": "code",
   "execution_count": null,
   "metadata": {},
   "outputs": [],
   "source": [
    "# PCB和定位板的固定相关参数\n",
    "\n",
    "PLATE_HOLE_DIAMETER = 2\n",
    "PLATE_SPACER_DIAMETER = 4\n",
    "PLATE_SPACER_DEPTH = 3\n",
    "\n",
    "__BACK_PLATE_ANCHORS = [\n",
    "    (loc.position.X, loc.position.Y)\n",
    "    for loc in [*PLATE_HOLES_LOCS, *PCB_BACKLEDS_LOCS]\n",
    "]\n",
    "from scipy.spatial import ConvexHull\n",
    "BACK_PLATE = offset(make_face(Polyline(*[\n",
    "    __BACK_PLATE_ANCHORS[idx]\n",
    "    for idx in ConvexHull(__BACK_PLATE_ANCHORS).vertices\n",
    "], close=True)), 10)"
   ]
  },
  {
   "cell_type": "code",
   "execution_count": null,
   "metadata": {},
   "outputs": [],
   "source": [
    "# 底座参数\n",
    "\n",
    "FEET_OUTLINE_DIAMETER = 8\n",
    "FEET_ENCHASE_HOLE_DIAMETER = 4\n",
    "FEET_ENCHASE_HOLE_DEPTH = 3\n",
    "\n",
    "__BOTTOM_INLINE = offset(BOTTOM, -max(SHELL_THICKNESS, FEET_OUTLINE_DIAMETER / 2))\n",
    "FEET_LOCS = [\n",
    "    Pos(vertex.X, vertex.Y, vertex.Z)\n",
    "    for vertex in (__BOTTOM_INLINE.edges().sort_by(Axis.X)[0].vertices()\n",
    "                   + __BOTTOM_INLINE.edges().sort_by(Axis.X)[-1].vertices())\n",
    "]"
   ]
  },
  {
   "cell_type": "code",
   "execution_count": null,
   "metadata": {},
   "outputs": [],
   "source": [
    "# 腕托参数\n",
    "\n",
    "WRIST_TOP_PLANE = Plane(\n",
    "    CASE_TOP_PLANE * Pos(0, 0, -TOP_CHAMFER[1])\n",
    "    * Pos(48.1683, -123.4488, 0) * Rot(0, 0, -13.5578)\n",
    "    * Rectangle(1, 1).face()\n",
    ")\n",
    "\n",
    "WRIST_BOTTOM = make_face(import_svg('design/wrist_bottom.svg'))\n",
    "WRIST_TOP = make_face(import_svg('design/wrist_top.svg'))\n",
    "WRIST_TOP_CURVE = Bezier((60, 0), (0, 0), (-30, 0), (-60, -12))\n",
    "WRIST_THICKNESS = 3.\n",
    "\n",
    "WRIST_REST = make_face(fillet(import_svg('design/wrist_rest.svg').vertices(), 5))\n",
    "WRIST_REST_WIDTH1, WRIST_REST_WIDTH2 = 120., 74.\n",
    "WRIST_REST_HEIGHT = 80.\n",
    "WRIST_REST_THICKNESS1, WRIST_REST_THICKNESS2 = 12., 6.\n",
    "WRIST_REST_TILTING = math.atan2(WRIST_REST_THICKNESS1 - WRIST_REST_THICKNESS2, WRIST_REST_HEIGHT / 2) * 180. / math.pi"
   ]
  },
  {
   "cell_type": "markdown",
   "metadata": {},
   "source": [
    "## 生成外壳"
   ]
  },
  {
   "cell_type": "code",
   "execution_count": null,
   "metadata": {},
   "outputs": [],
   "source": [
    "# 分上下两部分分别生成外壳实体\n",
    "\n",
    "solid = loft([\n",
    "    BOTTOM,\n",
    "    CASE_TOP_PLANE * Pos(0, 0, -TOP_CHAMFER[1]) * TOP\n",
    "], ruled=True)\n",
    "\n",
    "shell = offset(solid, -SHELL_THICKNESS, openings=solid.faces().sort_by(Axis.Z)[0])\n",
    "\n",
    "solid += loft([\n",
    "    CASE_TOP_PLANE * Pos(0, 0, -TOP_CHAMFER[1]) * TOP,\n",
    "    CASE_TOP_PLANE * offset(TOP, -TOP_CHAMFER[0], kind=Kind.INTERSECTION)\n",
    "])\n",
    "\n",
    "case_: Part = split(solid, PCB_PLANE, keep=Keep.TOP) + split(shell, PCB_PLANE, keep=Keep.BOTTOM)\n",
    "\n",
    "# 减去开槽，形成按键围栏\n",
    "case_ -= extrude(PLATE_PLANE * POCKET, TOP_OFFSET * 2)\n",
    "\n",
    "# 减去PCB区域，保证PCB能正常安装\n",
    "case_ -= extrude(PCB_PLANE * PCB, -20)\n",
    "\n",
    "# 减去定位板按键孔位\n",
    "__KAILH = Part() + (\n",
    "    Plane.YX * Box(SWITCH_BELOW_WIDTH, SWITCH_BELOW_WIDTH, SWITCH_BELOW_DEPTH, align=(Align.CENTER, Align.CENTER, Align.MIN))\n",
    "    + Plane.YX * Pos(0, 0, SWITCH_CLICK_SPACE) * Box(SWITCH_CLICK_DIAMETER, SWITCH_CLICK_WIDTH, SWITCH_CLICK_HEIGHT, align=(Align.CENTER, Align.CENTER, Align.MIN))\n",
    "    + Plane.XY * Box(SWITCH_ABOVE_WIDTH, SWITCH_ABOVE_WIDTH, SWITCH_ABOVE_HEIGHT, align=(Align.CENTER, Align.CENTER, Align.MIN))\n",
    ")\n",
    "case_ -= [\n",
    "    PLATE_PLANE * loc * __KAILH\n",
    "    for loc in SWITCHES_LOCS\n",
    "]\n",
    "\n",
    "# 生成PCB定位孔\n",
    "case_ -= [\n",
    "    PCB_PLANE * loc * extrude(Circle(PLATE_SPACER_DIAMETER / 2), amount=PLATE_SPACER_DEPTH)\n",
    "    for loc in PLATE_HOLES_LOCS\n",
    "]  # M2铜柱\n",
    "case_ -= [\n",
    "    PLATE_PLANE * loc * (extrude(Circle(PLATE_HOLE_DIAMETER / 2), amount=-PLATE_THICKNESS)\n",
    "                         + extrude(Circle(3.8 / 2), amount=-1.3, taper=45))\n",
    "    for loc in PLATE_HOLES_LOCS\n",
    "]  # M2沉头螺丝\n",
    "\n",
    "# 减去主控和OLED\n",
    "case_ -= extrude(PLATE_PLANE * OLED, -PLATE_THICKNESS * 2)\n",
    "\n",
    "# 减去接口\n",
    "case_ -= USB_LOC * extrude(Rectangle(USB_WIDTH, USB_HEIGHT), amount=30, taper=-USB_TAPER)\n",
    "case_ -= TRRS_LOC * (\n",
    "    Cylinder(TRRS_DIAMETER / 2, 30, align=[Align.CENTER, Align.CENTER, Align.MIN])\n",
    "    + Pos(0, 0, 4) * extrude(Circle(TRRS_DIAMETER / 2) + Pos(0, 10, 0) * Rectangle(TRRS_DIAMETER, 20), amount=30, taper=-TRRS_TAPER)\n",
    ")\n",
    "\n",
    "# 生成底板连接孔\n",
    "case_ += [\n",
    "    extrude(loc * Circle(FEET_OUTLINE_DIAMETER / 2), until=Until.NEXT, target=case_)\n",
    "    for loc in FEET_LOCS\n",
    "]  # 生成孔位所在圆台\n",
    "case_ -= [\n",
    "    loc * Cylinder(FEET_ENCHASE_HOLE_DIAMETER / 2, FEET_ENCHASE_HOLE_DEPTH * 2)\n",
    "    for loc in FEET_LOCS\n",
    "]  # 挖孔\n",
    "\n",
    "# 生成腕托磁铁槽\n",
    "wrist_rest_mag_faces = (\n",
    "    split(\n",
    "        loft([\n",
    "            BOTTOM,\n",
    "            CASE_TOP_PLANE * Pos(0, 0, -TOP_CHAMFER[1]) * TOP\n",
    "        ], ruled=True),\n",
    "        PCB_PLANE, keep=Keep.BOTTOM\n",
    "    )\n",
    "    .faces().filter_by_position(Axis.Y, -math.inf, -57).filter_by_position(Axis.X, 19, 95))\n",
    "wrist_rest_mag_planes = [\n",
    "    Plane(face.center(), z_dir=face.normal_at())\n",
    "    for face in wrist_rest_mag_faces\n",
    "]\n",
    "mag_pockets = [extrude(plane.offset(-0.5) * Circle(4), amount=-SHELL_THICKNESS) for plane in wrist_rest_mag_planes]\n",
    "case_ = case_ - mag_pockets\n",
    "\n",
    "# 完成建模\n",
    "case_.label = 'case'"
   ]
  },
  {
   "cell_type": "code",
   "execution_count": null,
   "metadata": {},
   "outputs": [],
   "source": [
    "if VISUALIZE:\n",
    "    show_object(case_)"
   ]
  },
  {
   "cell_type": "code",
   "execution_count": null,
   "metadata": {},
   "outputs": [],
   "source": [
    "if EXPORT:\n",
    "    case_.export_step('build/case.step')"
   ]
  },
  {
   "cell_type": "markdown",
   "metadata": {},
   "source": [
    "## 生成PCB背板"
   ]
  },
  {
   "cell_type": "code",
   "execution_count": null,
   "metadata": {},
   "outputs": [],
   "source": [
    "backplate: Part = extrude(BACK_PLATE, -2) - [loc * Cylinder(PLATE_HOLE_DIAMETER / 2, 6) for loc in PLATE_HOLES_LOCS]\n",
    "backplate.label = 'pcb_back'"
   ]
  },
  {
   "cell_type": "code",
   "execution_count": null,
   "metadata": {},
   "outputs": [],
   "source": [
    "if EXPORT:\n",
    "    backplate.export_step('build/back.step')"
   ]
  },
  {
   "cell_type": "markdown",
   "metadata": {},
   "source": [
    "## 生成底板"
   ]
  },
  {
   "cell_type": "code",
   "execution_count": null,
   "metadata": {},
   "outputs": [],
   "source": [
    "bottom: Part = extrude(BOTTOM, -2) - [loc * Cylinder(PLATE_HOLE_DIAMETER/2, 6) for loc in FEET_LOCS]\n",
    "bottom.label = 'bottom'"
   ]
  },
  {
   "cell_type": "code",
   "execution_count": null,
   "metadata": {},
   "outputs": [],
   "source": [
    "if EXPORT:\n",
    "    bottom.export_step('build/bottom.step')"
   ]
  },
  {
   "cell_type": "markdown",
   "metadata": {},
   "source": [
    "## 生成腕托"
   ]
  },
  {
   "cell_type": "code",
   "execution_count": null,
   "metadata": {},
   "outputs": [],
   "source": [
    "# 腕托托架\n",
    "\n",
    "wrist_rest_plate = loft([\n",
    "    WRIST_BOTTOM,\n",
    "    CASE_TOP_PLANE * Pos(0, 0, -TOP_CHAMFER[1]) * WRIST_TOP\n",
    "], ruled=True)\n",
    "\n",
    "__above = split(wrist_rest_plate, WRIST_TOP_PLANE.offset(-(10 + WRIST_THICKNESS)), keep=Keep.TOP)\n",
    "__shell = offset(\n",
    "    wrist_rest_plate, amount=-WRIST_THICKNESS,\n",
    "    openings=wrist_rest_plate.faces().sort_by(Axis(WRIST_TOP_PLANE.origin, WRIST_TOP_PLANE.z_dir))[0]\n",
    ")\n",
    "__below = split(__shell, WRIST_TOP_PLANE.offset(-(10 + WRIST_THICKNESS)), keep=Keep.BOTTOM)\n",
    "\n",
    "wrist_rest_plate = __above + __below\n",
    "\n",
    "wrist_rest_plate = split(\n",
    "    wrist_rest_plate,\n",
    "    Plane(WRIST_TOP_PLANE * Rot(WRIST_REST_TILTING, 0, 0) * Rectangle(1, 1).face()),\n",
    "    keep=Keep.BOTTOM\n",
    ")\n",
    "\n",
    "wrist_rest_plate -= WRIST_TOP_PLANE * extrude(WRIST_REST, amount=-10)\n",
    "\n",
    "wrist_rest_plate.label = 'wrist rest plate'"
   ]
  },
  {
   "cell_type": "code",
   "execution_count": null,
   "metadata": {},
   "outputs": [],
   "source": [
    "# 腕托本体\n",
    "\n",
    "wrist_rest: Part = split(\n",
    "    extrude(WRIST_REST, amount=12),\n",
    "    Plane(Pos(0, 0, 12) * Rot(WRIST_REST_TILTING, 0, 0) * Rectangle(1, 1).face()),\n",
    "    keep=Keep.BOTTOM\n",
    ")\n",
    "\n",
    "wrist_rest = fillet(\n",
    "    wrist_rest.edges().filter_by(Axis.Z, reverse=True).filter_by_position(Axis.Z, 2, 20)\n",
    "    - wrist_rest.edges().filter_by_position(Axis.Y, -10, 20),\n",
    "    radius=1\n",
    ")\n",
    "\n",
    "wrist_rest.label = 'wrist rest'"
   ]
  },
  {
   "cell_type": "code",
   "execution_count": null,
   "metadata": {},
   "outputs": [],
   "source": [
    "if VISUALIZE:\n",
    "    show(wrist_rest_plate, WRIST_TOP_PLANE * Pos(0, 0, -10) * wrist_rest, case_)"
   ]
  },
  {
   "cell_type": "code",
   "execution_count": null,
   "metadata": {},
   "outputs": [],
   "source": [
    "if EXPORT:\n",
    "    wrist_rest_plate.export_step('build/wrist_rest.step')"
   ]
  }
 ],
 "metadata": {
  "kernelspec": {
   "display_name": "build123d",
   "language": "python",
   "name": "python3"
  },
  "language_info": {
   "codemirror_mode": {
    "name": "ipython",
    "version": 3
   },
   "file_extension": ".py",
   "mimetype": "text/x-python",
   "name": "python",
   "nbconvert_exporter": "python",
   "pygments_lexer": "ipython3",
   "version": "3.11.5"
  }
 },
 "nbformat": 4,
 "nbformat_minor": 2
}
