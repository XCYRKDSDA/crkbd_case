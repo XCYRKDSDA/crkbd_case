{
 "cells": [
  {
   "cell_type": "code",
   "execution_count": null,
   "metadata": {},
   "outputs": [],
   "source": [
    "# 公用模块\n",
    "\n",
    "import math\n",
    "import numpy as np\n",
    "from typing import *\n",
    "\n",
    "from build123d import *"
   ]
  },
  {
   "cell_type": "code",
   "execution_count": null,
   "metadata": {},
   "outputs": [],
   "source": [
    "# 脚本参数\n",
    "\n",
    "VISUALIZE = True\n",
    "ASSEMBLE = False\n",
    "EXPORT = True\n",
    "\n",
    "if VISUALIZE:\n",
    "    from ocp_vscode import *"
   ]
  },
  {
   "cell_type": "code",
   "execution_count": null,
   "metadata": {},
   "outputs": [],
   "source": [
    "# 全局设计参数\n",
    "\n",
    "UNIT = 19."
   ]
  },
  {
   "cell_type": "markdown",
   "metadata": {},
   "source": [
    "## 对PCB进行逆向"
   ]
  },
  {
   "cell_type": "code",
   "execution_count": null,
   "metadata": {},
   "outputs": [],
   "source": [
    "__PCB_ORIGIN = np.array([10.6075, 19.1550])  # 本代码中使用kle中的原点为各个图形的原点。该值为该原点在pcb中的坐标\n",
    "__SWITCHES_ROW1_LOCS_RAW = [  # x, y\n",
    "    (20.1075, 35.7800), (39.1075, 35.7800), (58.1075, 31.0300), (77.1075, 28.6550), (96.1075, 31.0300), (115.1075, 33.4050),\n",
    "]\n",
    "__SWITCHES_THUMBS_LOCS_RAW = [  # x, y, r, w, h\n",
    "    (86.6075, 88.6550, 0, 1, 1), (107.6075, 91.4050, -15, 1, 1), (129.8575, 95.1550, 60, 1.5, 1)\n",
    "]\n",
    "\n",
    "SWITCHES_SIZES = [\n",
    "    *[(UNIT, UNIT) for _ in range(len(__SWITCHES_ROW1_LOCS_RAW) * 3)],\n",
    "    *[(w * UNIT, h * UNIT) for _, _, _, w, h in __SWITCHES_THUMBS_LOCS_RAW]\n",
    "]\n",
    "\n",
    "SWITCHES_LOCS: List[Location] = []\n",
    "for row in range(3):\n",
    "    for x, y in __SWITCHES_ROW1_LOCS_RAW:\n",
    "        SWITCHES_LOCS.append(Pos(x - __PCB_ORIGIN[0], -(y - __PCB_ORIGIN[1]) - row * UNIT))\n",
    "for x, y, r, _, _ in __SWITCHES_THUMBS_LOCS_RAW:\n",
    "    SWITCHES_LOCS.append(Pos(x - __PCB_ORIGIN[0], -(y - __PCB_ORIGIN[1])) * Rot(0, 0, r))\n",
    "\n",
    "PLATE_HOLES_LOCS = [Pos(x, -y, 0) for x, y in [\n",
    "    np.array([29.6075, 45.28]) - __PCB_ORIGIN,\n",
    "    np.array([29.6075, 64.28]) - __PCB_ORIGIN,\n",
    "    np.array([105.5755, 41.7655]) - __PCB_ORIGIN,\n",
    "    np.array([119.3305, 89.1350]) - __PCB_ORIGIN\n",
    "]]\n",
    "\n",
    "PCB_BACKLEDS_LOCS = [Pos(x, -y, 0) for x, y in [\n",
    "    np.array([39.1075, 45.28]) - __PCB_ORIGIN,\n",
    "    np.array([39.1075, 64.28]) - __PCB_ORIGIN,\n",
    "    np.array([77.1075, 38.155]) - __PCB_ORIGIN,\n",
    "    np.array([77.1075, 76.155]) - __PCB_ORIGIN,\n",
    "    np.array([115.1075, 42.905]) - __PCB_ORIGIN,\n",
    "    np.array([115.1075, 80.905]) - __PCB_ORIGIN\n",
    "]]\n",
    "\n",
    "PCB_USB_LOC = Pos(\n",
    "    134.8139 - __PCB_ORIGIN[0],\n",
    "    -(26.7694 - __PCB_ORIGIN[1]),\n",
    "    3.16 / 2\n",
    ") * Rot(-90, 0, 0)\n",
    "\n",
    "PCB_TRRS_LOC = Pos(\n",
    "    142.6345 + 3.6 - __PCB_ORIGIN[0],\n",
    "    -(74.292 - __PCB_ORIGIN[1]),\n",
    "    2.5\n",
    ") * Rot(0, 90, 0)\n",
    "\n",
    "PCB_TRRS_OUTLINE = Pos(\n",
    "    142.6345 + 3.6 - __PCB_ORIGIN[0],\n",
    "    -(74.292 - __PCB_ORIGIN[1]),\n",
    "    0\n",
    ") * (\n",
    "    Rectangle(2, 5, align=(Align.MAX, Align.CENTER))\n",
    "    + Pos(-2, 0, 0) * Rectangle(12.2, 6.1, align=(Align.MAX, Align.CENTER))\n",
    ")\n",
    "\n",
    "PCB_PROMICRO_OUTLINE = Pos(\n",
    "    134.8139 -__PCB_ORIGIN[0],\n",
    "    -(61.1700 - __PCB_ORIGIN[1]),\n",
    "    0\n",
    ") * (\n",
    "    Rectangle(18.5, 34.92, align=(Align.CENTER, Align.MIN))\n",
    "    + Rectangle(8.92, 36.60, align=(Align.CENTER, Align.MIN))\n",
    ")"
   ]
  },
  {
   "cell_type": "code",
   "execution_count": null,
   "metadata": {},
   "outputs": [],
   "source": [
    "# 如有需要，导出按键外边框以协助后续外形设计\n",
    "\n",
    "# SWITCHES_BOUNDARY = Sketch() + [loc * Rectangle(*size) for loc, size in zip(SWITCHES_LOCS, SWITCHES_SIZES)]\n",
    "# exporter = ExportSVG()\n",
    "# exporter.add_layer('switches').add_shape(SWITCHES_BOUNDARY)\n",
    "# exporter.write('switches.svg')"
   ]
  },
  {
   "cell_type": "markdown",
   "metadata": {},
   "source": [
    "## 外形设计"
   ]
  },
  {
   "cell_type": "code",
   "execution_count": null,
   "metadata": {},
   "outputs": [],
   "source": [
    "def import_svg(file_path: str):\n",
    "    code, val = import_svg_as_buildline_code(file_path)\n",
    "    exec(code)\n",
    "    return locals()[val].line"
   ]
  },
  {
   "cell_type": "code",
   "execution_count": null,
   "metadata": {},
   "outputs": [],
   "source": [
    "LARGE_ENOUGH = 100. # “足够大”的值，用于减集穿过所有"
   ]
  },
  {
   "cell_type": "code",
   "execution_count": null,
   "metadata": {},
   "outputs": [],
   "source": [
    "# 轴体参数\n",
    "\n",
    "# 轴在定位板顶面之下的部分。用于在定位板上挖孔\n",
    "SWITCH_BELOW_WIDTH, SWITCH_BELOW_DEPTH = (14.1, 5.)\n",
    "SWITCH_CLICK_SPACE, SWITCH_CLICK_DIAMETER = (1.41, 15.)\n",
    "SWITCH_CLICK_WIDTH, SWITCH_CLICK_WIDTH, SWITCH_CLICK_HEIGHT = (4., 3., SWITCH_BELOW_DEPTH - SWITCH_CLICK_SPACE)\n",
    "\n",
    "# 轴在定位板顶面之上的部分。用于在外壳上为键帽留出空间\n",
    "SWITCH_ABOVE_WIDTH, SWITCH_ABOVE_HEIGHT = (UNIT, 20.)"
   ]
  },
  {
   "cell_type": "code",
   "execution_count": null,
   "metadata": {},
   "outputs": [],
   "source": [
    "# 定位板参数\n",
    "\n",
    "PLATE_OFFSET = 10 # 定位板最低处的高度\n",
    "PLATE_TILTING = 12.5 # 定位板的倾斜度\n",
    "\n",
    "PLATE_THICKNESS = 5 # 定位板的厚度。5mm即为最大厚度，此时定位板与pcb直接接触\n",
    "\n",
    "CASE_PLATE_PLANE = Plane( # 定位板所在平面。该平面为最重要的平面\n",
    "    Pos(0, 0, PLATE_OFFSET) * Rot(0, -PLATE_TILTING, 0) * Rectangle(1, 1).face()\n",
    ")"
   ]
  },
  {
   "cell_type": "code",
   "execution_count": 60,
   "metadata": {},
   "outputs": [],
   "source": [
    "# 整体外形参数\n",
    "\n",
    "CASE_SHELL_THICKNESS = 4 # 外壳厚度\n",
    "CASE_TOP_OFFSET = 8 # 外壳顶面相对定位板的高度，也即键轴周围护栏的高度\n",
    "CASE_TOP_CHAMFER = (1.5, 2.) # 外壳顶面四周的倒角尺寸\n",
    "CASE_BOTTOM_THICKNESS = 2.\n",
    "\n",
    "CASE_TOP_PLANE = Plane(CASE_PLATE_PLANE * Rectangle(1, 1).face().offset(CASE_TOP_OFFSET)) # 外壳顶面所在平面\n",
    "\n",
    "CASE_TOP = make_face(import_svg('design/top.svg'))\n",
    "CASE_BOTTOM = make_face(import_svg('design/bottom.svg'))\n",
    "CASE_POCKET = make_face(import_svg('design/pocket.svg'))"
   ]
  },
  {
   "cell_type": "code",
   "execution_count": null,
   "metadata": {},
   "outputs": [],
   "source": [
    "# PCB和接口参数\n",
    "\n",
    "PCB_THICKNESS = 1.6 # PCB板厚度，需要根据实际PCB厚度调整\n",
    "\n",
    "CONNECTOR_THICKNESS = 1.85 # 凯华热插拔轴座厚度\n",
    "\n",
    "USB_HOLE_WIDTH, USB_HOLE_HEIGHT = 13., 7. # USB插槽尺寸\n",
    "\n",
    "TRRS_DIAMETER = 8 # 耳机线接口直径\n",
    "TRRS_EXTRA_POCKET_OFFSET = 4 # 耳机额外接口槽相对接口本身的偏移。由于垂直的3.5mm耳机接口与外壳会发生冲突，故特开此槽\n",
    "TRRS_EXTRA_POCKET_WIDTH = 20 # 耳机额外接口槽宽度。\n",
    "TRRS_EXTRA_POCKET_TAPER = 45 # 耳机额外接口槽斜度\n",
    "\n",
    "PCB_PLANE = Plane(CASE_PLATE_PLANE * Rectangle(1, 1).face().offset(-5))\n",
    "\n",
    "USB_LOC = PCB_PLANE * PCB_USB_LOC\n",
    "TRRS_LOC = PCB_PLANE * PCB_TRRS_LOC\n",
    "\n",
    "PCB_OUTLINE = make_face(import_svg('design/pcb.svg'))\n",
    "OLED_POCKET = make_face(import_svg('design/oled.svg'))\n",
    "PROMICRO_POCKET = offset(PCB_PROMICRO_OUTLINE, amount=0.25, kind=Kind.INTERSECTION)\n",
    "TRRS_POCKET = offset(PCB_TRRS_OUTLINE, amount=0.25, kind=Kind.INTERSECTION)\n",
    "\n",
    "PCB_POCKET_OFFSET = 12. # 保证PCB可以正常放入的最小开槽深度"
   ]
  },
  {
   "cell_type": "code",
   "execution_count": null,
   "metadata": {},
   "outputs": [],
   "source": [
    "# PCB和定位板的固定相关参数\n",
    "\n",
    "# 选用M2*6铜柱\n",
    "PLATE_SCREW_DIAMETER = 2 # 螺丝直径\n",
    "PLATE_COUNTERSUNK_TAPER = 90 / 2 # 沉头角度\n",
    "PLATE_COUNTERSUNK_DEPTH = 1.3 # 沉头深度\n",
    "PLATE_COUNTERSUNK_DIAMETER = 3.8 # 沉头直径\n",
    "PLATE_SPACER_HEIGHT = 6 # 铜柱高度\n",
    "PLATE_SPACER_HOLE_DIAMETER = 4 # 在定位板上为铜柱开的孔的直径，需要比铜柱外径大\n",
    "PLATE_SPACER_HOLE_DEPTH = ( # 在定位板上为铜柱开的孔的深度，为了使背板能刚好把PCB夹住\n",
    "    PLATE_SPACER_HEIGHT - PCB_THICKNESS - CONNECTOR_THICKNESS - 0.5\n",
    ") \n",
    "BACKPLATE_THICKNESS = 2.\n",
    "\n",
    "# 根据定位孔的位置和背光LED的位置，计算能挡住上述内容的最小背板形状\n",
    "__BACK_PLATE_ANCHORS = [\n",
    "    (loc.position.X, loc.position.Y)\n",
    "    for loc in [*PLATE_HOLES_LOCS, *PCB_BACKLEDS_LOCS]\n",
    "]\n",
    "from scipy.spatial import ConvexHull\n",
    "BACK_PLATE = offset(make_face(Polyline(*[\n",
    "    __BACK_PLATE_ANCHORS[idx]\n",
    "    for idx in ConvexHull(__BACK_PLATE_ANCHORS).vertices\n",
    "], close=True)), 10)"
   ]
  },
  {
   "cell_type": "code",
   "execution_count": null,
   "metadata": {},
   "outputs": [],
   "source": [
    "# 底座参数。该系列参数将同时用于腕托的底座\n",
    "\n",
    "# 选用M3滚花螺母\n",
    "FEET_OUTLINE_DIAMETER = 8 # 底座连接孔台面的外径\n",
    "FEET_ENCHASE_HOLE_DIAMETER = 4. # 底座镶嵌螺母的孔的外径。M3滚花螺母外径为4.2，此处略小\n",
    "FEET_ENCHASE_HOLE_DEPTH = 3 * 2 # 镶嵌螺母的孔的深度。M3滚花螺母高度为3，此处留出余量，避免镶嵌时树脂怼到螺纹里\n",
    "\n",
    "FEET_SCREW_DIAMETER = 3 # 螺丝直径\n",
    "FEET_COUNTERSUNK_TAPER = 90 / 2 # 沉头角度\n",
    "FEET_COUNTERSUNK_DEPTH = 1.7 # 沉头深度\n",
    "FEET_COUNTERSUNK_DIAMETER = 5.5 # 沉头直径\n",
    "\n",
    "__CASE_BOTTOM_INLINE = offset(CASE_BOTTOM, -max(CASE_SHELL_THICKNESS, FEET_OUTLINE_DIAMETER / 2))\n",
    "CASE_FEET_LOCS = [ # 键盘外壳的底座连接孔位置\n",
    "    Pos(vertex.X, vertex.Y, vertex.Z)\n",
    "    for vertex in (__CASE_BOTTOM_INLINE.edges().sort_by(Axis.X)[0].vertices()\n",
    "                   + __CASE_BOTTOM_INLINE.edges().sort_by(Axis.X)[-1].vertices())\n",
    "]"
   ]
  },
  {
   "cell_type": "code",
   "execution_count": null,
   "metadata": {},
   "outputs": [],
   "source": [
    "# 腕托参数\n",
    "\n",
    "# 石腕托形状参数\n",
    "WRIST_REST = make_face(fillet(import_svg('design/wrist_rest.svg').vertices(), 8))\n",
    "WRIST_REST_TILTING = math.atan2(6, 40) * 180. / math.pi # 根据腕托形状计算腕托倾斜角\n",
    "WRIST_REST_THICKNESS1, WRIST_REST_THICKNESS2 = 12., 6.\n",
    "\n",
    "# 以腕托中心为原点的平面\n",
    "WRIST_TOP_PLANE = Plane(\n",
    "    CASE_TOP_PLANE * Pos(0, 0, -CASE_TOP_CHAMFER[1])\n",
    "    * Pos(48.1683, -123.4488, 0) * Rot(0, 0, -13.5578)\n",
    "    * Rectangle(1, 1).face()\n",
    ")\n",
    "\n",
    "# 腕托架形状参数\n",
    "WRIST_REST_POCKET_DEPTH = 10.\n",
    "WRIST_PLATE_SHELL_THICKNESS = 3.\n",
    "WRIST_PLATE_BOTTOM = make_face(import_svg('design/wrist_bottom.svg'))\n",
    "WRIST_PLATE_TOP = make_face(import_svg('design/wrist_top.svg'))\n",
    "\n",
    "__WRIST_PLATE_BOTTOM_VERTICES = sorted(\n",
    "    offset(WRIST_PLATE_BOTTOM, -max(WRIST_PLATE_SHELL_THICKNESS, FEET_OUTLINE_DIAMETER / 2)).vertices(),\n",
    "    key=lambda v: (Vector(v) - (48.1683, -123.4488, 0)).length, reverse=True\n",
    ")\n",
    "WRIST_PLATE_FEET_LOCS = [ # 腕托架的底座连接孔位置\n",
    "    Pos(vertex.X, vertex.Y, vertex.Z)\n",
    "    for vertex in __WRIST_PLATE_BOTTOM_VERTICES[0:4]\n",
    "]"
   ]
  },
  {
   "cell_type": "code",
   "execution_count": null,
   "metadata": {},
   "outputs": [],
   "source": [
    "# 外壳与腕托连接的磁铁的参数\n",
    "\n",
    "MAGNET_DIAMETER, MAGNET_THICKNESS = 8., 2. # 磁铁形状\n",
    "MAGNET_HOLE_DIAMETER = MAGNET_DIAMETER + 0.5 # 磁铁安装孔直径，留有胶水余量\n",
    "MAGNET_HOLE_DEPTH = MAGNET_THICKNESS + 0.5 # 朝外的磁铁安装孔深度，留有余量，防止磁铁撞碎\n",
    "MAGNET_SHELL_THICKNESS = 0.6 # 朝内的磁铁安装孔距离外侧面的厚度，需要考虑材料最小壁厚"
   ]
  },
  {
   "cell_type": "markdown",
   "metadata": {},
   "source": [
    "## 生成外壳"
   ]
  },
  {
   "cell_type": "code",
   "execution_count": 61,
   "metadata": {},
   "outputs": [],
   "source": [
    "# 分上下两部分分别生成外壳实体\n",
    "\n",
    "# 放样得到基础外形\n",
    "__case_solid = loft([\n",
    "    CASE_BOTTOM,\n",
    "    CASE_TOP_PLANE * Pos(0, 0, -CASE_TOP_CHAMFER[1]) * CASE_TOP\n",
    "], ruled=True)\n",
    "\n",
    "# 形状向内偏移，得到外壳\n",
    "__case_shell = offset(__case_solid, -CASE_SHELL_THICKNESS, openings=__case_solid.faces().sort_by(Axis.Z)[0])\n",
    "\n",
    "# 添加顶面的倒角\n",
    "__case_solid += loft([\n",
    "    CASE_TOP_PLANE * Pos(0, 0, -CASE_TOP_CHAMFER[1]) * CASE_TOP,\n",
    "    CASE_TOP_PLANE * offset(CASE_TOP, -CASE_TOP_CHAMFER[0], kind=Kind.INTERSECTION)\n",
    "])\n",
    "\n",
    "# 由基础外形的上半部分和外壳的下半部分组成外壳实体\n",
    "case_: Part = split(__case_solid, PCB_PLANE, keep=Keep.TOP) + split(__case_shell, PCB_PLANE, keep=Keep.BOTTOM)\n",
    "\n",
    "# 减去开槽，形成按键围栏\n",
    "case_ -= extrude(CASE_TOP_PLANE * CASE_POCKET, -CASE_TOP_OFFSET)\n",
    "\n",
    "# 减去PCB区域，保证PCB能正常安装\n",
    "case_ -= extrude(PCB_PLANE * PCB_OUTLINE, -LARGE_ENOUGH)\n",
    "case_ -= extrude(PCB_PLANE * PROMICRO_POCKET, -PCB_POCKET_OFFSET)\n",
    "case_ -= extrude(PCB_PLANE * TRRS_POCKET, -PCB_POCKET_OFFSET)\n",
    "\n",
    "# 减去定位板按键孔位\n",
    "__kailh_pocket = Part() + (\n",
    "    Plane.YX * Box(SWITCH_BELOW_WIDTH, SWITCH_BELOW_WIDTH, SWITCH_BELOW_DEPTH, align=(Align.CENTER, Align.CENTER, Align.MIN))\n",
    "    + Plane.YX * Pos(0, 0, SWITCH_CLICK_SPACE) * Box(SWITCH_CLICK_DIAMETER, SWITCH_CLICK_WIDTH,\n",
    "                                                     SWITCH_CLICK_HEIGHT, align=(Align.CENTER, Align.CENTER, Align.MIN))\n",
    "    + Plane.XY * Box(SWITCH_ABOVE_WIDTH, SWITCH_ABOVE_WIDTH, SWITCH_ABOVE_HEIGHT, align=(Align.CENTER, Align.CENTER, Align.MIN))\n",
    ")\n",
    "case_ -= [\n",
    "    CASE_PLATE_PLANE * loc * __kailh_pocket\n",
    "    for loc in SWITCHES_LOCS\n",
    "]\n",
    "\n",
    "# 生成PCB定位孔\n",
    "case_ -= [\n",
    "    PCB_PLANE * loc * extrude(Circle(PLATE_SPACER_HOLE_DIAMETER / 2), amount=PLATE_SPACER_HOLE_DEPTH)\n",
    "    for loc in PLATE_HOLES_LOCS\n",
    "]  # M2铜柱沉孔\n",
    "case_ -= [\n",
    "    CASE_PLATE_PLANE * loc * (extrude(Circle(PLATE_SCREW_DIAMETER / 2), amount=-PLATE_THICKNESS)\n",
    "                              + extrude(Circle(PLATE_COUNTERSUNK_DIAMETER / 2),\n",
    "                                        amount=-PLATE_COUNTERSUNK_DEPTH, taper=PLATE_COUNTERSUNK_TAPER))\n",
    "    for loc in PLATE_HOLES_LOCS\n",
    "]  # M2沉头螺丝孔\n",
    "\n",
    "# 减去主控、OLED、TRRS\n",
    "case_ -= extrude(CASE_PLATE_PLANE * OLED_POCKET, -PLATE_THICKNESS)\n",
    "case_ -= extrude(CASE_PLATE_PLANE * PROMICRO_POCKET, -PLATE_THICKNESS)\n",
    "case_ -= extrude(CASE_PLATE_PLANE * TRRS_POCKET, -PLATE_THICKNESS)\n",
    "\n",
    "# 减去接口\n",
    "# 考虑到接口均超出了PCB，此处向内偏移一段距离以同时削减出留给元件的空间\n",
    "# 按理说这个应该放在PCB_OUTLINE中的，但是懒\n",
    "case_ -= USB_LOC * Pos(0, 0, -3) * extrude(Rectangle(USB_HOLE_WIDTH, USB_HOLE_HEIGHT), amount=LARGE_ENOUGH)\n",
    "case_ -= TRRS_LOC * Pos(0, 0, -3) * (\n",
    "    Cylinder(TRRS_DIAMETER / 2, LARGE_ENOUGH, align=[Align.CENTER, Align.CENTER, Align.MIN])\n",
    "    + Pos(0, 0, TRRS_EXTRA_POCKET_OFFSET + 3) * extrude(\n",
    "        Circle(TRRS_DIAMETER / 2) + Rectangle(TRRS_DIAMETER, TRRS_EXTRA_POCKET_WIDTH, align=(Align.CENTER, Align.MIN)),\n",
    "        amount=LARGE_ENOUGH, taper=-TRRS_EXTRA_POCKET_TAPER\n",
    "    )\n",
    ")\n",
    "\n",
    "# 生成底板连接孔\n",
    "case_ += [  # 生成孔位所在圆台\n",
    "    extrude(loc * Circle(FEET_OUTLINE_DIAMETER / 2), until=Until.NEXT, target=case_)\n",
    "    for loc in CASE_FEET_LOCS\n",
    "]\n",
    "case_ -= [  # 挖孔\n",
    "    loc * Cylinder(FEET_ENCHASE_HOLE_DIAMETER / 2, FEET_ENCHASE_HOLE_DEPTH * 2)\n",
    "    for loc in CASE_FEET_LOCS\n",
    "]\n",
    "\n",
    "# 生成腕托磁铁槽\n",
    "__wrist_rest_mag_faces = (  # 选择朝前的四个面中中间两个\n",
    "    split(\n",
    "        loft([\n",
    "            CASE_BOTTOM,\n",
    "            CASE_TOP_PLANE * Pos(0, 0, -CASE_TOP_CHAMFER[1]) * CASE_TOP\n",
    "        ], ruled=True),\n",
    "        PCB_PLANE, keep=Keep.BOTTOM\n",
    "    ).faces()\n",
    "    .filter_by_position(Axis.Y, -math.inf, -57).filter_by_position(Axis.X, 19, 95)  # 此处筛选条件很难参数化\n",
    ")\n",
    "wrist_rest_mag_planes = [  # 生成接触平面\n",
    "    Plane(face.intersect(Axis(face.center(), face.normal_at())), z_dir=face.normal_at())\n",
    "    for face in __wrist_rest_mag_faces\n",
    "]\n",
    "case_ -= [  # 向内减去磁铁开槽\n",
    "    extrude(\n",
    "        plane.offset(-MAGNET_SHELL_THICKNESS) * Circle(MAGNET_HOLE_DIAMETER / 2),\n",
    "        amount=-CASE_SHELL_THICKNESS\n",
    "    )\n",
    "    for plane in wrist_rest_mag_planes\n",
    "]\n",
    "\n",
    "# 完成建模\n",
    "case_.label = 'case'"
   ]
  },
  {
   "cell_type": "code",
   "execution_count": 62,
   "metadata": {},
   "outputs": [
    {
     "name": "stdout",
     "output_type": "stream",
     "text": [
      "+"
     ]
    }
   ],
   "source": [
    "if VISUALIZE:\n",
    "    show(case_)"
   ]
  },
  {
   "cell_type": "code",
   "execution_count": null,
   "metadata": {},
   "outputs": [],
   "source": [
    "if EXPORT:\n",
    "    case_.export_step('build/case.step')"
   ]
  },
  {
   "cell_type": "markdown",
   "metadata": {},
   "source": [
    "## 生成PCB背板"
   ]
  },
  {
   "cell_type": "code",
   "execution_count": null,
   "metadata": {},
   "outputs": [],
   "source": [
    "backplate: Part = extrude(BACK_PLATE, -BACKPLATE_THICKNESS) - [\n",
    "    loc * Cylinder(PLATE_SCREW_DIAMETER / 2, 6)\n",
    "    for loc in PLATE_HOLES_LOCS\n",
    "]\n",
    "\n",
    "backplate.label = 'pcb back'"
   ]
  },
  {
   "cell_type": "code",
   "execution_count": null,
   "metadata": {},
   "outputs": [],
   "source": [
    "# 生成用于加工的dxf\n",
    "backplate_sketch: Sketch = BACK_PLATE - [\n",
    "    loc * Circle(PLATE_SCREW_DIAMETER / 2)\n",
    "    for loc in PLATE_HOLES_LOCS\n",
    "]"
   ]
  },
  {
   "cell_type": "code",
   "execution_count": null,
   "metadata": {},
   "outputs": [],
   "source": [
    "if EXPORT:\n",
    "    backplate.export_step('build/back.step')\n",
    "    \n",
    "    dxf_exporter = ExportDXF()\n",
    "    dxf_exporter.add_layer('backplate')\n",
    "    dxf_exporter.add_shape(backplate_sketch)\n",
    "    dxf_exporter.write('build/back.dxf')"
   ]
  },
  {
   "cell_type": "markdown",
   "metadata": {},
   "source": [
    "## 生成底板"
   ]
  },
  {
   "cell_type": "code",
   "execution_count": null,
   "metadata": {},
   "outputs": [],
   "source": [
    "bottom: Part = extrude(CASE_BOTTOM, -CASE_BOTTOM_THICKNESS) - [\n",
    "    loc * (\n",
    "        Cylinder(FEET_SCREW_DIAMETER / 2, LARGE_ENOUGH)\n",
    "        + Pos(0, 0, -CASE_BOTTOM_THICKNESS) *\n",
    "        extrude(Circle(FEET_COUNTERSUNK_DIAMETER / 2),\n",
    "                amount=FEET_COUNTERSUNK_DEPTH, taper=FEET_COUNTERSUNK_TAPER)\n",
    "    )\n",
    "    for loc in CASE_FEET_LOCS\n",
    "]\n",
    "\n",
    "bottom.label = 'bottom'"
   ]
  },
  {
   "cell_type": "code",
   "execution_count": null,
   "metadata": {},
   "outputs": [],
   "source": [
    "# 生成用于加工的dxf\n",
    "bottom_sketch: Sketch = CASE_BOTTOM - [\n",
    "    loc * Circle(FEET_SCREW_DIAMETER / 2)\n",
    "    for loc in CASE_FEET_LOCS\n",
    "]"
   ]
  },
  {
   "cell_type": "code",
   "execution_count": null,
   "metadata": {},
   "outputs": [],
   "source": [
    "if EXPORT:\n",
    "    bottom.export_step('build/bottom.step')\n",
    "\n",
    "    dxf_exporter = ExportDXF()\n",
    "    dxf_exporter.add_layer('backplate')\n",
    "    dxf_exporter.add_shape(bottom_sketch)\n",
    "    dxf_exporter.write('build/bottom.dxf')"
   ]
  },
  {
   "cell_type": "markdown",
   "metadata": {},
   "source": [
    "## 生成腕托"
   ]
  },
  {
   "cell_type": "code",
   "execution_count": null,
   "metadata": {},
   "outputs": [],
   "source": [
    "# 腕托托架\n",
    "\n",
    "# 放样得到基础外形\n",
    "__solid = loft([\n",
    "    WRIST_PLATE_BOTTOM,\n",
    "    CASE_TOP_PLANE * Pos(0, 0, -CASE_TOP_CHAMFER[1]) * WRIST_PLATE_TOP\n",
    "], ruled=True)\n",
    "\n",
    "# 上半部分用于容纳腕托\n",
    "__above = split(__solid, WRIST_TOP_PLANE.offset(-(WRIST_REST_POCKET_DEPTH + WRIST_PLATE_SHELL_THICKNESS)), keep=Keep.TOP)\n",
    "\n",
    "# 下半部分生成外壳\n",
    "__shell = offset(\n",
    "    __solid, amount=-WRIST_PLATE_SHELL_THICKNESS,\n",
    "    openings=__solid.faces().sort_by(Axis(WRIST_TOP_PLANE.origin, WRIST_TOP_PLANE.z_dir))[0]\n",
    ")\n",
    "__below = split(__shell, WRIST_TOP_PLANE.offset(-(10 + WRIST_PLATE_SHELL_THICKNESS)), keep=Keep.BOTTOM)\n",
    "\n",
    "# 拼接两部分\n",
    "wrist_rest_plate = __above + __below\n",
    "\n",
    "# 生成底板连接孔\n",
    "wrist_rest_plate += __solid & [\n",
    "    extrude(loc * Circle(FEET_OUTLINE_DIAMETER / 2), amount=LARGE_ENOUGH)\n",
    "    for loc in WRIST_PLATE_FEET_LOCS\n",
    "]  # 生成孔位所在圆台\n",
    "wrist_rest_plate -= [\n",
    "    loc * Cylinder(FEET_ENCHASE_HOLE_DIAMETER / 2, FEET_ENCHASE_HOLE_DEPTH * 2)\n",
    "    for loc in WRIST_PLATE_FEET_LOCS\n",
    "]  # 挖孔\n",
    "\n",
    "# 切割出斜面\n",
    "wrist_rest_plate = split(\n",
    "    wrist_rest_plate,\n",
    "    Plane(WRIST_TOP_PLANE * Rot(WRIST_REST_TILTING, 0, 0) * Rectangle(1, 1).face()),\n",
    "    keep=Keep.BOTTOM\n",
    ")\n",
    "\n",
    "# 减去腕托槽\n",
    "wrist_rest_plate -= WRIST_TOP_PLANE * extrude(WRIST_REST, amount=-WRIST_REST_POCKET_DEPTH)\n",
    "\n",
    "# 挖磁铁槽\n",
    "wrist_rest_plate -= [\n",
    "    plane * Cylinder(MAGNET_HOLE_DIAMETER / 2, 2 * MAGNET_HOLE_DEPTH) # 向外挖槽。使用双向距离保证向外连通\n",
    "    for plane in wrist_rest_mag_planes\n",
    "]\n",
    "\n",
    "wrist_rest_plate.label = 'wrist rest plate'"
   ]
  },
  {
   "cell_type": "code",
   "execution_count": null,
   "metadata": {},
   "outputs": [],
   "source": [
    "# 腕托本体\n",
    "\n",
    "wrist_rest: Part = split(\n",
    "    extrude(WRIST_REST, amount=12),\n",
    "    Plane(Pos(0, 0, WRIST_REST_THICKNESS1) * Rot(WRIST_REST_TILTING, 0, 0) * Rectangle(1, 1).face()),\n",
    "    keep=Keep.BOTTOM\n",
    ")\n",
    "\n",
    "wrist_rest = fillet(\n",
    "    wrist_rest.edges().filter_by(Axis.Z, reverse=True).filter_by_position(Axis.Z, 2, 20)\n",
    "    - wrist_rest.edges().filter_by_position(Axis.Y, -10, 20),\n",
    "    radius=1\n",
    ")\n",
    "\n",
    "wrist_rest.label = 'wrist rest'"
   ]
  },
  {
   "cell_type": "code",
   "execution_count": null,
   "metadata": {},
   "outputs": [],
   "source": [
    "if VISUALIZE:\n",
    "    show(wrist_rest_plate, WRIST_TOP_PLANE * Pos(0, 0, -10) * wrist_rest, case_)"
   ]
  },
  {
   "cell_type": "code",
   "execution_count": null,
   "metadata": {},
   "outputs": [],
   "source": [
    "if EXPORT:\n",
    "    wrist_rest_plate.export_step('build/wrist_rest.step')"
   ]
  },
  {
   "cell_type": "markdown",
   "metadata": {},
   "source": [
    "## 生成腕托底板"
   ]
  },
  {
   "cell_type": "code",
   "execution_count": null,
   "metadata": {},
   "outputs": [],
   "source": [
    "wrist_rest_bottom: Part = extrude(WRIST_PLATE_BOTTOM, -CASE_BOTTOM_THICKNESS) - [\n",
    "    loc * (\n",
    "        Cylinder(FEET_SCREW_DIAMETER / 2, LARGE_ENOUGH)\n",
    "        + Pos(0, 0, -CASE_BOTTOM_THICKNESS) *\n",
    "        extrude(Circle(FEET_COUNTERSUNK_DIAMETER / 2),\n",
    "                amount=FEET_COUNTERSUNK_DEPTH, taper=FEET_COUNTERSUNK_TAPER)\n",
    "    )\n",
    "    for loc in WRIST_PLATE_FEET_LOCS\n",
    "]\n",
    "wrist_rest_bottom.label = 'bottom'"
   ]
  },
  {
   "cell_type": "code",
   "execution_count": null,
   "metadata": {},
   "outputs": [],
   "source": [
    "# 生成用于加工的dxf\n",
    "\n",
    "wrist_rest_bottom_sketch: Sketch = WRIST_PLATE_BOTTOM - [\n",
    "    loc * Circle(FEET_SCREW_DIAMETER / 2)\n",
    "    for loc in WRIST_PLATE_FEET_LOCS\n",
    "]"
   ]
  },
  {
   "cell_type": "code",
   "execution_count": null,
   "metadata": {},
   "outputs": [],
   "source": [
    "if EXPORT:\n",
    "    wrist_rest_bottom.export_step('build/wrist_rest_bottom.step')\n",
    "\n",
    "    dxf_exporter = ExportDXF()\n",
    "    dxf_exporter.add_layer('wrist_rest_bottom_sketch')\n",
    "    dxf_exporter.add_shape(wrist_rest_bottom_sketch)\n",
    "    dxf_exporter.write('build/wrist_rest_bottom.dxf')"
   ]
  },
  {
   "cell_type": "markdown",
   "metadata": {},
   "source": [
    "## 键盘假组"
   ]
  },
  {
   "cell_type": "code",
   "execution_count": null,
   "metadata": {},
   "outputs": [],
   "source": [
    "ass_case = Compound(children=[\n",
    "    case_, bottom,\n",
    "    PCB_PLANE.offset(-(- PLATE_SPACER_HOLE_DEPTH + PLATE_SPACER_HEIGHT)) * backplate\n",
    "], label='case')\n",
    "\n",
    "ass_wrist_rest = Compound(children=[\n",
    "    wrist_rest_plate, wrist_rest_bottom, WRIST_TOP_PLANE * Pos(0, 0, -10) * wrist_rest\n",
    "], label='wrist rest')\n",
    "\n",
    "assembly = Compound(children=[\n",
    "    ass_case,\n",
    "    ass_wrist_rest\n",
    "], label='crkbd case')"
   ]
  },
  {
   "cell_type": "code",
   "execution_count": null,
   "metadata": {},
   "outputs": [],
   "source": [
    "if VISUALIZE:\n",
    "    show(assembly)"
   ]
  },
  {
   "cell_type": "code",
   "execution_count": null,
   "metadata": {},
   "outputs": [],
   "source": [
    "if EXPORT:\n",
    "    assembly.export_step('build/assembly.step')"
   ]
  }
 ],
 "metadata": {
  "kernelspec": {
   "display_name": "build123d",
   "language": "python",
   "name": "python3"
  },
  "language_info": {
   "codemirror_mode": {
    "name": "ipython",
    "version": 3
   },
   "file_extension": ".py",
   "mimetype": "text/x-python",
   "name": "python",
   "nbconvert_exporter": "python",
   "pygments_lexer": "ipython3",
   "version": "3.11.5"
  }
 },
 "nbformat": 4,
 "nbformat_minor": 2
}
